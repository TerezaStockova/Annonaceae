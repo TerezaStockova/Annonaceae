{
 "cells": [
  {
   "cell_type": "markdown",
   "id": "7caca541",
   "metadata": {},
   "source": [
    "**Step 1:**\n",
    "\n",
    "I have got pre-processed fastq files (guaterria and non-guaterria plastomes) assembled to uvaria afzelii with annotations (incl. from dogma). I preprocess the files into fasta format in Python and save them to the same folder as the original. \n",
    "\n",
    "For Guatteria: D:\\Annonaceae plastome data\\Annonaceae plastome data\\Plastome data\\Guatteria"
   ]
  },
  {
   "cell_type": "code",
   "execution_count": null,
   "id": "74a18124",
   "metadata": {},
   "outputs": [],
   "source": [
    "import glob\n",
    "from Bio import SeqIO\n",
    "import os\n",
    "\n",
    "input_folder_guatteria = r\"D:\\Annonaceae plastome data\\Annonaceae plastome data\\Plastome data\\Guatteria\"\n",
    "\n",
    "# Find all FASTQ files in that folder\n",
    "fastq_files_guatteria = glob.glob(os.path.join(input_folder_guatteria, \"*.fastq\"))\n",
    "\n",
    "for fastq_file_guatteria in fastq_files_guatteria:\n",
    "    output_file_guatteria = os.path.splitext(fastq_file_guatteria)[0] + \".fasta\"\n",
    "    with open(output_file_guatteria, \"w\") as out_handle:\n",
    "        count = SeqIO.convert(fastq_file_guatteria, \"fastq\", out_handle, \"fasta\")\n",
    "    #print(f\"Converted {count} records from {fastq_file} to {output_file}\")\n"
   ]
  },
  {
   "cell_type": "markdown",
   "id": "fc1f9b28",
   "metadata": {},
   "source": [
    "For non-Guatteria:"
   ]
  },
  {
   "cell_type": "code",
   "execution_count": 4,
   "id": "5d7881f6",
   "metadata": {},
   "outputs": [],
   "source": [
    "input_folder_non_guatteria = r\"D:\\Annonaceae plastome data\\Annonaceae plastome data\\Plastome data\\non-Guatteria\"\n",
    "\n",
    "# Find all FASTQ files in that folder\n",
    "fastq_files_non_guatteria = glob.glob(os.path.join(input_folder_non_guatteria, \"*.fastq\"))\n",
    "\n",
    "for fastq_file_non_guatteria in fastq_files_non_guatteria:\n",
    "    output_file_non_guatteria = os.path.splitext(fastq_file_non_guatteria)[0] + \".fasta\"\n",
    "    with open(output_file_non_guatteria, \"w\") as out_handle:\n",
    "        count = SeqIO.convert(fastq_file_non_guatteria, \"fastq\", out_handle, \"fasta\")\n",
    "    #print(f\"Converted {count} records from {fastq_file} to {output_file}\")"
   ]
  },
  {
   "cell_type": "markdown",
   "id": "a0470fc6",
   "metadata": {},
   "source": [
    "**Step 2:**\n",
    "\n",
    "Prepare Input Files (FASTA) - may want to combine all FASTA sequences into one file:"
   ]
  },
  {
   "cell_type": "code",
   "execution_count": 5,
   "id": "8262b854",
   "metadata": {},
   "outputs": [],
   "source": [
    "input_files_mafft = glob.glob(os.path.join(input_folder_guatteria, input_folder_non_guatteria, \"*.fasta\"))\n",
    "  # etc.\n",
    "combined_file_mafft = \"all_plastomes.fasta\"\n",
    "\n",
    "with open(combined_file_mafft, \"w\") as outfile:\n",
    "    for fname in input_files_mafft:\n",
    "        for record in SeqIO.parse(fname, \"fasta\"):\n",
    "            SeqIO.write(record, outfile, \"fasta\")\n"
   ]
  },
  {
   "cell_type": "markdown",
   "id": "262584c6",
   "metadata": {},
   "source": [
    "**Step 3:**\n",
    "\n",
    "Run MAFFT from Python"
   ]
  },
  {
   "cell_type": "code",
   "execution_count": null,
   "id": "a6b3bd27",
   "metadata": {},
   "outputs": [],
   "source": [
    "import subprocess\n",
    "\n",
    "input_fasta_mafft = \"all_plastomes.fasta\"\n",
    "output_fasta_mafft = \"aligned_plastomes.fasta\"\n",
    "\n",
    "# Adjust `--auto` for best general results, or use `--globalpair --maxiterate 1000` for accuracy\n",
    "mafft_path = r\"D:\\mafft\\mafft-win\\mafft.bat\"  # Use raw string (r\"...\")\n",
    "\n",
    "cmd = [mafft_path, \"--auto\", input_fasta_mafft]\n",
    "\n",
    "with open(output_fasta_mafft, \"w\") as out_f:\n",
    "    subprocess.run(cmd, stdout=out_f)\n",
    "\n",
    "print(\"Alignment completed with MAFFT.\")"
   ]
  },
  {
   "cell_type": "markdown",
   "id": "d40b8009",
   "metadata": {},
   "source": []
  }
 ],
 "metadata": {
  "kernelspec": {
   "display_name": "Python 3",
   "language": "python",
   "name": "python3"
  },
  "language_info": {
   "codemirror_mode": {
    "name": "ipython",
    "version": 3
   },
   "file_extension": ".py",
   "mimetype": "text/x-python",
   "name": "python",
   "nbconvert_exporter": "python",
   "pygments_lexer": "ipython3",
   "version": "3.12.10"
  }
 },
 "nbformat": 4,
 "nbformat_minor": 5
}
