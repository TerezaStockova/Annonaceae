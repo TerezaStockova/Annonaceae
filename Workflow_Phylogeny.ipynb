{
 "cells": [
  {
   "cell_type": "markdown",
   "id": "7caca541",
   "metadata": {},
   "source": [
    "**Step 1:**\n",
    "\n",
    "I have got pre-processed fastq files (guaterria and non-guaterria plastomes) assembled to uvaria afzelii with annotations (incl. from dogma). I preprocess the files into fasta format in Python and save them to the same folder as the original. \n",
    "\n",
    "For Guatteria: D:\\Annonaceae plastome data\\Annonaceae plastome data\\Plastome data\\Guatteria"
   ]
  },
  {
   "cell_type": "code",
   "execution_count": 48,
   "id": "74a18124",
   "metadata": {},
   "outputs": [],
   "source": [
    "import glob\n",
    "from Bio import SeqIO\n",
    "import os\n",
    "\n",
    "input_folder_guatteria = r\"D:\\Annonaceae plastome data\\Annonaceae plastome data\\Plastome data\\Guatteria\"\n",
    "\n",
    "# Find all FASTQ files in that folder\n",
    "fastq_files_guatteria = glob.glob(os.path.join(input_folder_guatteria, \"*.fastq\"))\n",
    "\n",
    "for fastq_file_guatteria in fastq_files_guatteria:\n",
    "    output_file_guatteria = os.path.splitext(fastq_file_guatteria)[0] + \".fasta\"\n",
    "    with open(output_file_guatteria, \"w\") as out_handle:\n",
    "        count = SeqIO.convert(fastq_file_guatteria, \"fastq\", out_handle, \"fasta\")\n",
    "    #print(f\"Converted {count} records from {fastq_file} to {output_file}\")\n"
   ]
  },
  {
   "cell_type": "markdown",
   "id": "fc1f9b28",
   "metadata": {},
   "source": [
    "For non-Guatteria:"
   ]
  },
  {
   "cell_type": "code",
   "execution_count": 49,
   "id": "5d7881f6",
   "metadata": {},
   "outputs": [],
   "source": [
    "input_folder_non_guatteria = r\"D:\\Annonaceae plastome data\\Annonaceae plastome data\\Plastome data\\non-Guatteria\"\n",
    "\n",
    "# Find all FASTQ files in that folder\n",
    "fastq_files_non_guatteria = glob.glob(os.path.join(input_folder_non_guatteria, \"*.fastq\"))\n",
    "\n",
    "for fastq_file_non_guatteria in fastq_files_non_guatteria:\n",
    "    output_file_non_guatteria = os.path.splitext(fastq_file_non_guatteria)[0] + \".fasta\"\n",
    "    with open(output_file_non_guatteria, \"w\") as out_handle:\n",
    "        count = SeqIO.convert(fastq_file_non_guatteria, \"fastq\", out_handle, \"fasta\")\n",
    "    #print(f\"Converted {count} records from {fastq_file} to {output_file}\")"
   ]
  },
  {
   "cell_type": "markdown",
   "id": "a0470fc6",
   "metadata": {},
   "source": [
    "**Step 2:**\n",
    "\n",
    "Prepare Input Files (FASTA) - may want to combine all FASTA sequences into one file:"
   ]
  },
  {
   "cell_type": "code",
   "execution_count": 50,
   "id": "8262b854",
   "metadata": {},
   "outputs": [],
   "source": [
    "# Collect all fasta files from both directories\n",
    "input_files_guatteria = glob.glob(os.path.join(input_folder_guatteria, \"*.fasta\"))\n",
    "input_files_non_guatteria = glob.glob(os.path.join(input_folder_non_guatteria, \"*.fasta\"))\n",
    "\n",
    "# Combine the file lists\n",
    "input_files_mafft = input_files_guatteria + input_files_non_guatteria\n",
    "\n",
    "# Output file\n",
    "combined_file_mafft = \"all_plastomes.fasta\"\n",
    "\n",
    "# Write all sequences to the combined file\n",
    "with open(combined_file_mafft, \"w\") as outfile:\n",
    "    for fname in input_files_mafft:\n",
    "        for record in SeqIO.parse(fname, \"fasta\"):\n",
    "            SeqIO.write(record, outfile, \"fasta\")\n"
   ]
  },
  {
   "cell_type": "markdown",
   "id": "262584c6",
   "metadata": {},
   "source": [
    "**Step 3:**\n",
    "\n",
    "Run MAFFT from Python"
   ]
  },
  {
   "cell_type": "code",
   "execution_count": 51,
   "id": "a6b3bd27",
   "metadata": {},
   "outputs": [
    {
     "name": "stdout",
     "output_type": "stream",
     "text": [
      "Alignment completed with MAFFT.\n"
     ]
    }
   ],
   "source": [
    "import subprocess\n",
    "\n",
    "input_fasta_mafft = \"all_plastomes.fasta\"\n",
    "output_fasta_mafft = \"aligned_plastomes.fasta\"\n",
    "\n",
    "# Adjust `--auto` for best general results, or use `--globalpair --maxiterate 1000` for accuracy\n",
    "mafft_path = r\"D:\\mafft\\mafft-win\\mafft.bat\"  # Use raw string (r\"...\")\n",
    "\n",
    "cmd = [mafft_path, \"--auto\", input_fasta_mafft]\n",
    "\n",
    "with open(output_fasta_mafft, \"w\") as out_f:\n",
    "    subprocess.run(cmd, stdout=out_f)\n",
    "\n",
    "print(\"Alignment completed with MAFFT.\")"
   ]
  },
  {
   "cell_type": "markdown",
   "id": "d40b8009",
   "metadata": {},
   "source": [
    "**Step 4:**\n",
    "\n",
    "Snip the erroneous edges using sliding windows (automated curation)\n",
    "\n",
    "Manual curation done in AliView (which turned out better that basic sliding windows - *trimmed_alignment.fasta*) and therefore will be used in further processing unter the name *aligned_plastomes_copy_aliview* \n",
    "\n",
    "Stricter version of sliding windows (*trimmed_alignment_stricter.fasta*) set up such that no more than 20% gaps are allowed and in a column 80% needs to agree, otherwise discarded"
   ]
  },
  {
   "cell_type": "code",
   "execution_count": 2,
   "id": "488230ae",
   "metadata": {},
   "outputs": [
    {
     "ename": "KeyboardInterrupt",
     "evalue": "",
     "output_type": "error",
     "traceback": [
      "\u001b[1;31m---------------------------------------------------------------------------\u001b[0m",
      "\u001b[1;31mKeyboardInterrupt\u001b[0m                         Traceback (most recent call last)",
      "Cell \u001b[1;32mIn[2], line 47\u001b[0m\n\u001b[0;32m     44\u001b[0m     \u001b[38;5;28mprint\u001b[39m(\u001b[38;5;124mf\u001b[39m\u001b[38;5;124m\"\u001b[39m\u001b[38;5;124mTrimmed from columns \u001b[39m\u001b[38;5;132;01m{\u001b[39;00mtrim_start\u001b[38;5;132;01m}\u001b[39;00m\u001b[38;5;124m to \u001b[39m\u001b[38;5;132;01m{\u001b[39;00mtrim_end\u001b[38;5;132;01m}\u001b[39;00m\u001b[38;5;124m (\u001b[39m\u001b[38;5;132;01m{\u001b[39;00mtrim_end\u001b[38;5;250m \u001b[39m\u001b[38;5;241m-\u001b[39m\u001b[38;5;250m \u001b[39mtrim_start\u001b[38;5;250m \u001b[39m\u001b[38;5;241m+\u001b[39m\u001b[38;5;250m \u001b[39m\u001b[38;5;241m1\u001b[39m\u001b[38;5;132;01m}\u001b[39;00m\u001b[38;5;124m bp)\u001b[39m\u001b[38;5;124m\"\u001b[39m)\n\u001b[0;32m     45\u001b[0m     \u001b[38;5;28mprint\u001b[39m(\u001b[38;5;124mf\u001b[39m\u001b[38;5;124m\"\u001b[39m\u001b[38;5;124mOriginal columns: \u001b[39m\u001b[38;5;132;01m{\u001b[39;00maln_len\u001b[38;5;132;01m}\u001b[39;00m\u001b[38;5;124m, Removed: \u001b[39m\u001b[38;5;132;01m{\u001b[39;00maln_len\u001b[38;5;250m \u001b[39m\u001b[38;5;241m-\u001b[39m\u001b[38;5;250m \u001b[39m(trim_end\u001b[38;5;250m \u001b[39m\u001b[38;5;241m-\u001b[39m\u001b[38;5;250m \u001b[39mtrim_start\u001b[38;5;250m \u001b[39m\u001b[38;5;241m+\u001b[39m\u001b[38;5;250m \u001b[39m\u001b[38;5;241m1\u001b[39m)\u001b[38;5;132;01m}\u001b[39;00m\u001b[38;5;124m\"\u001b[39m)\n\u001b[1;32m---> 47\u001b[0m \u001b[43mtrim_alignment\u001b[49m\u001b[43m(\u001b[49m\u001b[38;5;124;43m\"\u001b[39;49m\u001b[38;5;124;43maligned_plastomes.fasta\u001b[39;49m\u001b[38;5;124;43m\"\u001b[39;49m\u001b[43m,\u001b[49m\u001b[43m \u001b[49m\u001b[38;5;124;43m\"\u001b[39;49m\u001b[38;5;124;43mtrimmed_alignment.fasta\u001b[39;49m\u001b[38;5;124;43m\"\u001b[39;49m\u001b[43m)\u001b[49m\n",
      "Cell \u001b[1;32mIn[2], line 16\u001b[0m, in \u001b[0;36mtrim_alignment\u001b[1;34m(input_file, output_file, gap_threshold, window_size)\u001b[0m\n\u001b[0;32m     14\u001b[0m good_pos \u001b[38;5;241m=\u001b[39m []\n\u001b[0;32m     15\u001b[0m \u001b[38;5;28;01mfor\u001b[39;00m i \u001b[38;5;129;01min\u001b[39;00m \u001b[38;5;28mrange\u001b[39m(aln_len):\n\u001b[1;32m---> 16\u001b[0m     col \u001b[38;5;241m=\u001b[39m \u001b[43malignment\u001b[49m\u001b[43m[\u001b[49m\u001b[43m:\u001b[49m\u001b[43m,\u001b[49m\u001b[43m \u001b[49m\u001b[43mi\u001b[49m\u001b[43m]\u001b[49m\n\u001b[0;32m     17\u001b[0m     \u001b[38;5;28;01mif\u001b[39;00m calc_gap_fraction(col) \u001b[38;5;241m<\u001b[39m gap_threshold:\n\u001b[0;32m     18\u001b[0m         good_pos\u001b[38;5;241m.\u001b[39mappend(i)\n",
      "File \u001b[1;32m~\\AppData\\Local\\Packages\\PythonSoftwareFoundation.Python.3.12_qbz5n2kfra8p0\\LocalCache\\local-packages\\Python312\\site-packages\\Bio\\Align\\__init__.py:794\u001b[0m, in \u001b[0;36mMultipleSeqAlignment.__getitem__\u001b[1;34m(self, index)\u001b[0m\n\u001b[0;32m    791\u001b[0m     \u001b[38;5;28;01mreturn\u001b[39;00m \u001b[38;5;28mself\u001b[39m\u001b[38;5;241m.\u001b[39m_records[row_index][col_index]\n\u001b[0;32m    792\u001b[0m \u001b[38;5;28;01melif\u001b[39;00m \u001b[38;5;28misinstance\u001b[39m(col_index, \u001b[38;5;28mint\u001b[39m):\n\u001b[0;32m    793\u001b[0m     \u001b[38;5;66;03m# e.g. col_or_part_col = align[1:5, 6], gives a string\u001b[39;00m\n\u001b[1;32m--> 794\u001b[0m     \u001b[38;5;28;01mreturn\u001b[39;00m \u001b[38;5;124;43m\"\u001b[39;49m\u001b[38;5;124;43m\"\u001b[39;49m\u001b[38;5;241;43m.\u001b[39;49m\u001b[43mjoin\u001b[49m\u001b[43m(\u001b[49m\u001b[43mrec\u001b[49m\u001b[43m[\u001b[49m\u001b[43mcol_index\u001b[49m\u001b[43m]\u001b[49m\u001b[43m \u001b[49m\u001b[38;5;28;43;01mfor\u001b[39;49;00m\u001b[43m \u001b[49m\u001b[43mrec\u001b[49m\u001b[43m \u001b[49m\u001b[38;5;129;43;01min\u001b[39;49;00m\u001b[43m \u001b[49m\u001b[38;5;28;43mself\u001b[39;49m\u001b[38;5;241;43m.\u001b[39;49m\u001b[43m_records\u001b[49m\u001b[43m[\u001b[49m\u001b[43mrow_index\u001b[49m\u001b[43m]\u001b[49m\u001b[43m)\u001b[49m\n\u001b[0;32m    795\u001b[0m \u001b[38;5;28;01melse\u001b[39;00m:\n\u001b[0;32m    796\u001b[0m     \u001b[38;5;66;03m# e.g. sub_align = align[1:4, 5:7], gives another alignment\u001b[39;00m\n\u001b[0;32m    797\u001b[0m     new \u001b[38;5;241m=\u001b[39m MultipleSeqAlignment(\n\u001b[0;32m    798\u001b[0m         rec[col_index] \u001b[38;5;28;01mfor\u001b[39;00m rec \u001b[38;5;129;01min\u001b[39;00m \u001b[38;5;28mself\u001b[39m\u001b[38;5;241m.\u001b[39m_records[row_index]\n\u001b[0;32m    799\u001b[0m     )\n",
      "File \u001b[1;32m~\\AppData\\Local\\Packages\\PythonSoftwareFoundation.Python.3.12_qbz5n2kfra8p0\\LocalCache\\local-packages\\Python312\\site-packages\\Bio\\Align\\__init__.py:794\u001b[0m, in \u001b[0;36m<genexpr>\u001b[1;34m(.0)\u001b[0m\n\u001b[0;32m    791\u001b[0m     \u001b[38;5;28;01mreturn\u001b[39;00m \u001b[38;5;28mself\u001b[39m\u001b[38;5;241m.\u001b[39m_records[row_index][col_index]\n\u001b[0;32m    792\u001b[0m \u001b[38;5;28;01melif\u001b[39;00m \u001b[38;5;28misinstance\u001b[39m(col_index, \u001b[38;5;28mint\u001b[39m):\n\u001b[0;32m    793\u001b[0m     \u001b[38;5;66;03m# e.g. col_or_part_col = align[1:5, 6], gives a string\u001b[39;00m\n\u001b[1;32m--> 794\u001b[0m     \u001b[38;5;28;01mreturn\u001b[39;00m \u001b[38;5;124m\"\u001b[39m\u001b[38;5;124m\"\u001b[39m\u001b[38;5;241m.\u001b[39mjoin(\u001b[43mrec\u001b[49m\u001b[43m[\u001b[49m\u001b[43mcol_index\u001b[49m\u001b[43m]\u001b[49m \u001b[38;5;28;01mfor\u001b[39;00m rec \u001b[38;5;129;01min\u001b[39;00m \u001b[38;5;28mself\u001b[39m\u001b[38;5;241m.\u001b[39m_records[row_index])\n\u001b[0;32m    795\u001b[0m \u001b[38;5;28;01melse\u001b[39;00m:\n\u001b[0;32m    796\u001b[0m     \u001b[38;5;66;03m# e.g. sub_align = align[1:4, 5:7], gives another alignment\u001b[39;00m\n\u001b[0;32m    797\u001b[0m     new \u001b[38;5;241m=\u001b[39m MultipleSeqAlignment(\n\u001b[0;32m    798\u001b[0m         rec[col_index] \u001b[38;5;28;01mfor\u001b[39;00m rec \u001b[38;5;129;01min\u001b[39;00m \u001b[38;5;28mself\u001b[39m\u001b[38;5;241m.\u001b[39m_records[row_index]\n\u001b[0;32m    799\u001b[0m     )\n",
      "File \u001b[1;32m~\\AppData\\Local\\Packages\\PythonSoftwareFoundation.Python.3.12_qbz5n2kfra8p0\\LocalCache\\local-packages\\Python312\\site-packages\\Bio\\SeqRecord.py:503\u001b[0m, in \u001b[0;36mSeqRecord.__getitem__\u001b[1;34m(self, index)\u001b[0m\n\u001b[0;32m    391\u001b[0m \u001b[38;5;250m\u001b[39m\u001b[38;5;124;03m\"\"\"Return a sub-sequence or an individual letter.\u001b[39;00m\n\u001b[0;32m    392\u001b[0m \n\u001b[0;32m    393\u001b[0m \u001b[38;5;124;03mSlicing, e.g. my_record[5:10], returns a new SeqRecord for\u001b[39;00m\n\u001b[1;32m   (...)\u001b[0m\n\u001b[0;32m    497\u001b[0m \u001b[38;5;124;03m'K'\u001b[39;00m\n\u001b[0;32m    498\u001b[0m \u001b[38;5;124;03m\"\"\"\u001b[39;00m\n\u001b[0;32m    499\u001b[0m \u001b[38;5;28;01mif\u001b[39;00m \u001b[38;5;28misinstance\u001b[39m(index, numbers\u001b[38;5;241m.\u001b[39mIntegral):\n\u001b[0;32m    500\u001b[0m     \u001b[38;5;66;03m# NOTE - The sequence level annotation like the id, name, etc\u001b[39;00m\n\u001b[0;32m    501\u001b[0m     \u001b[38;5;66;03m# do not really apply to a single character.  However, should\u001b[39;00m\n\u001b[0;32m    502\u001b[0m     \u001b[38;5;66;03m# we try and expose any per-letter-annotation here?  If so how?\u001b[39;00m\n\u001b[1;32m--> 503\u001b[0m     \u001b[38;5;28;01mreturn\u001b[39;00m \u001b[38;5;28;43mself\u001b[39;49m\u001b[38;5;241;43m.\u001b[39;49m\u001b[43mseq\u001b[49m\u001b[43m[\u001b[49m\u001b[43mindex\u001b[49m\u001b[43m]\u001b[49m\n\u001b[0;32m    504\u001b[0m \u001b[38;5;28;01melif\u001b[39;00m \u001b[38;5;28misinstance\u001b[39m(index, \u001b[38;5;28mslice\u001b[39m):\n\u001b[0;32m    505\u001b[0m     \u001b[38;5;28;01mif\u001b[39;00m \u001b[38;5;28mself\u001b[39m\u001b[38;5;241m.\u001b[39mseq \u001b[38;5;129;01mis\u001b[39;00m \u001b[38;5;28;01mNone\u001b[39;00m:\n",
      "File \u001b[1;32m~\\AppData\\Local\\Packages\\PythonSoftwareFoundation.Python.3.12_qbz5n2kfra8p0\\LocalCache\\local-packages\\Python312\\site-packages\\Bio\\Seq.py:522\u001b[0m, in \u001b[0;36m_SeqAbstractBaseClass.__getitem__\u001b[1;34m(self, index)\u001b[0m\n\u001b[0;32m    504\u001b[0m \u001b[38;5;28;01mdef\u001b[39;00m\u001b[38;5;250m \u001b[39m\u001b[38;5;21m__getitem__\u001b[39m(\u001b[38;5;28mself\u001b[39m, index):\n\u001b[0;32m    505\u001b[0m \u001b[38;5;250m    \u001b[39m\u001b[38;5;124;03m\"\"\"Return a subsequence as a single letter or as a sequence object.\u001b[39;00m\n\u001b[0;32m    506\u001b[0m \n\u001b[0;32m    507\u001b[0m \u001b[38;5;124;03m    If the index is an integer, a single letter is returned as a Python\u001b[39;00m\n\u001b[1;32m   (...)\u001b[0m\n\u001b[0;32m    520\u001b[0m \u001b[38;5;124;03m    MutableSeq('ACG')\u001b[39;00m\n\u001b[0;32m    521\u001b[0m \u001b[38;5;124;03m    \"\"\"\u001b[39;00m\n\u001b[1;32m--> 522\u001b[0m     \u001b[38;5;28;01mif\u001b[39;00m \u001b[38;5;28;43misinstance\u001b[39;49m\u001b[43m(\u001b[49m\u001b[43mindex\u001b[49m\u001b[43m,\u001b[49m\u001b[43m \u001b[49m\u001b[43mnumbers\u001b[49m\u001b[38;5;241;43m.\u001b[39;49m\u001b[43mIntegral\u001b[49m\u001b[43m)\u001b[49m:\n\u001b[0;32m    523\u001b[0m         \u001b[38;5;66;03m# Return a single letter as a string\u001b[39;00m\n\u001b[0;32m    524\u001b[0m         \u001b[38;5;28;01mreturn\u001b[39;00m \u001b[38;5;28mchr\u001b[39m(\u001b[38;5;28mself\u001b[39m\u001b[38;5;241m.\u001b[39m_data[index])\n\u001b[0;32m    525\u001b[0m     \u001b[38;5;28;01melse\u001b[39;00m:\n\u001b[0;32m    526\u001b[0m         \u001b[38;5;66;03m# Return the (sub)sequence as another Seq/MutableSeq object\u001b[39;00m\n",
      "File \u001b[1;32m<frozen abc>:119\u001b[0m, in \u001b[0;36m__instancecheck__\u001b[1;34m(cls, instance)\u001b[0m\n",
      "\u001b[1;31mKeyboardInterrupt\u001b[0m: "
     ]
    }
   ],
   "source": [
    "from Bio import AlignIO\n",
    "from Bio.Align import MultipleSeqAlignment\n",
    "\n",
    "def trim_alignment(input_file, output_file, gap_threshold=0.5, window_size=20):\n",
    "    alignment = AlignIO.read(input_file, \"fasta\")\n",
    "    aln_len = alignment.get_alignment_length()\n",
    "    n_seqs = len(alignment)\n",
    "\n",
    "    def calc_gap_fraction(column):\n",
    "        gaps = sum(1 for c in column if c in [\"-\", \"N\", \"n\"])\n",
    "        return gaps / n_seqs\n",
    "\n",
    "    # Find good alignment positions\n",
    "    good_pos = []\n",
    "    for i in range(aln_len):\n",
    "        col = alignment[:, i]\n",
    "        if calc_gap_fraction(col) < gap_threshold:\n",
    "            good_pos.append(i)\n",
    "\n",
    "    # Find longest continuous stretch of good positions (with window)\n",
    "    start, end = 0, 0\n",
    "    current = []\n",
    "    for i in range(len(good_pos) - window_size + 1):\n",
    "        window = good_pos[i:i+window_size]\n",
    "        if window[-1] - window[0] == window_size - 1:\n",
    "            current = window\n",
    "            break\n",
    "\n",
    "    if not current:\n",
    "        raise ValueError(\"No clean window found with given parameters.\")\n",
    "\n",
    "    # Define final trim region\n",
    "    trim_start = current[0]\n",
    "    trim_end = good_pos[-1]\n",
    "\n",
    "    # Trim and write output\n",
    "    trimmed = MultipleSeqAlignment([\n",
    "        record[trim_start:trim_end+1] for record in alignment\n",
    "    ])\n",
    "\n",
    "\n",
    "    AlignIO.write(trimmed, output_file, \"fasta\")\n",
    "    print(f\"Trimmed alignment written to: {output_file}\")\n",
    "    print(f\"Trimmed from columns {trim_start} to {trim_end} ({trim_end - trim_start + 1} bp)\")\n",
    "    print(f\"Original columns: {aln_len}, Removed: {aln_len - (trim_end - trim_start + 1)}\")\n",
    "\n",
    "trim_alignment(\"aligned_plastomes.fasta\", \"trimmed_alignment.fasta\")\n"
   ]
  },
  {
   "cell_type": "markdown",
   "id": "445c640c",
   "metadata": {},
   "source": [
    "The stricter version of the above cell:"
   ]
  },
  {
   "cell_type": "code",
   "execution_count": 53,
   "id": "9cc2e853",
   "metadata": {},
   "outputs": [
    {
     "name": "stdout",
     "output_type": "stream",
     "text": [
      "Trimmed alignment written to: trimmed_alignment_stricter.fasta\n",
      "Trimmed from columns 3421 to 222728 (219308 bp)\n",
      "Original columns: 223075, Removed: 3767\n"
     ]
    }
   ],
   "source": [
    "from collections import Counter\n",
    "\n",
    "def trim_alignment_stricter(input_file, output_file, gap_threshold=0.2, consensus_threshold=0.8, window_size=30):\n",
    "    alignment = AlignIO.read(input_file, \"fasta\")\n",
    "    aln_len = alignment.get_alignment_length()\n",
    "    n_seqs = len(alignment)\n",
    "\n",
    "    gap_fractions = []\n",
    "    consensus_scores = []\n",
    "    good_pos = []\n",
    "\n",
    "    def is_column_good(column):\n",
    "        gaps = sum(1 for c in column if c in [\"-\", \"N\", \"n\"])\n",
    "        gap_frac = gaps / n_seqs\n",
    "        bases = [c for c in column if c not in [\"-\", \"N\", \"n\"]]\n",
    "        consensus = 0\n",
    "        if bases:\n",
    "            consensus = Counter(bases).most_common(1)[0][1] / len(bases)\n",
    "\n",
    "        gap_fractions.append(gap_frac)\n",
    "        consensus_scores.append(consensus)\n",
    "        return gap_frac <= gap_threshold and consensus >= consensus_threshold\n",
    "\n",
    "    for i in range(aln_len):\n",
    "        if is_column_good(alignment[:, i]):\n",
    "            good_pos.append(i)\n",
    "\n",
    "    # Find longest clean window\n",
    "    start, end = 0, 0\n",
    "    for i in range(len(good_pos) - window_size + 1):\n",
    "        window = good_pos[i:i + window_size]\n",
    "        if window[-1] - window[0] == window_size - 1:\n",
    "            start = window[0]\n",
    "            break\n",
    "    else:\n",
    "        raise ValueError(\"No clean window found with given parameters.\")\n",
    "\n",
    "    end = good_pos[-1]\n",
    "\n",
    "    # Trim and write output\n",
    "    trimmed = MultipleSeqAlignment([\n",
    "        record[start:end + 1] for record in alignment\n",
    "    ])\n",
    "    AlignIO.write(trimmed, output_file, \"fasta\")\n",
    "\n",
    "    # Report\n",
    "    print(f\"Trimmed alignment written to: {output_file}\")\n",
    "    print(f\"Trimmed from columns {start} to {end} ({end - start + 1} bp)\")\n",
    "    print(f\"Original columns: {aln_len}, Removed: {aln_len - (end - start + 1)}\")\n",
    "\n",
    "# Run it\n",
    "trim_alignment_stricter(\"aligned_plastomes.fasta\", \"trimmed_alignment_stricter.fasta\")\n"
   ]
  },
  {
   "cell_type": "markdown",
   "id": "0a747385",
   "metadata": {},
   "source": [
    "Report for AliView (strictest):"
   ]
  },
  {
   "cell_type": "code",
   "execution_count": 3,
   "id": "4e003665",
   "metadata": {},
   "outputs": [
    {
     "name": "stdout",
     "output_type": "stream",
     "text": [
      "AliView trimmed alignment file: aligned_plastomes_copy_aliview.fasta\n",
      "Trimmed from columns 4260 to 220970 (216711 bp)\n",
      "Original columns: 223075, Removed: 6364\n"
     ]
    }
   ],
   "source": [
    "input_file = \"aligned_plastomes_copy_aliview.fasta\"\n",
    "\n",
    "alignment = AlignIO.read(input_file, \"fasta\")\n",
    "full_len = 223075\n",
    "\n",
    "# Example fixed trim region (for report only)\n",
    "trim_start = 4260  # Replace with real start from AliView\n",
    "trim_end = 220970  # Replace with real end from AliView\n",
    "\n",
    "kept_columns = trim_end - trim_start + 1\n",
    "removed_columns = full_len - kept_columns\n",
    "\n",
    "print(f\"AliView trimmed alignment file: {input_file}\")\n",
    "print(f\"Trimmed from columns {trim_start} to {trim_end} ({kept_columns} bp)\")\n",
    "print(f\"Original columns: {full_len}, Removed: {removed_columns}\")\n"
   ]
  },
  {
   "cell_type": "markdown",
   "id": "d141d3e3",
   "metadata": {},
   "source": [
    "**Step 5:**\n",
    "\n",
    "Build a plastome phylogeny using IQ-TREE from the trimed and aligned *.fasta* plastomes:\n",
    "* *trimmed_alignment.fasta* (excluded)\n",
    "* *trimmed_alignment_stricter.fasta*\n",
    "* *aligned_plastomes_copy_aliview.fasta*"
   ]
  },
  {
   "cell_type": "code",
   "execution_count": 5,
   "id": "db3002f1",
   "metadata": {},
   "outputs": [
    {
     "name": "stdout",
     "output_type": "stream",
     "text": [
      "Running IQ-TREE with command: D:\\iqtree\\iqtree-3.0.1-Windows\\bin\\iqtree3.exe -s C:\\Users\\terez\\OneDrive\\Plocha\\PP (Plantsies and Programming)\\Annonaceae\\trimmed_alignment_stricter.fasta -m GTR+G -nt 4 -bb 1000 -alrt 1000 -pre phylo_output_trimmed_alignment\\plastome_tree\n"
     ]
    },
    {
     "ename": "",
     "evalue": "",
     "output_type": "error",
     "traceback": [
      "\u001b[1;31mCannot execute code, session has been disposed. Please try restarting the Kernel."
     ]
    },
    {
     "ename": "",
     "evalue": "",
     "output_type": "error",
     "traceback": [
      "\u001b[1;31mCannot execute code, session has been disposed. Please try restarting the Kernel. \n",
      "\u001b[1;31mView Jupyter <a href='command:jupyter.viewOutput'>log</a> for further details."
     ]
    }
   ],
   "source": [
    "import subprocess\n",
    "from pathlib import Path\n",
    "\n",
    "alignment_file = Path(r\"C:\\Users\\terez\\OneDrive\\Plocha\\PP (Plantsies and Programming)\\Annonaceae\\trimmed_alignment_stricter.fasta\")\n",
    "iqtree_executable = Path(r\"D:\\iqtree\\iqtree-3.0.1-Windows\\bin\\iqtree3.exe\")\n",
    "output_dir = Path(\"phylo_output_trimmed_alignment\")\n",
    "output_dir.mkdir(exist_ok=True)\n",
    "\n",
    "def run_iqtree(alignment_path: Path, threads: int = 4, model: str = \"GTR+G\"):\n",
    "    command = [\n",
    "        str(iqtree_executable),\n",
    "        \"-s\", str(alignment_path),\n",
    "        \"-m\", model,\n",
    "        \"-nt\", str(threads),\n",
    "        \"-bb\", \"1000\",\n",
    "        \"-alrt\", \"1000\",\n",
    "        \"-pre\", str(output_dir / \"plastome_tree\")\n",
    "    ]\n",
    "\n",
    "    print(f\"Running IQ-TREE with command: {' '.join(command)}\")\n",
    "    try:\n",
    "        subprocess.run(command, check=True)\n",
    "    except FileNotFoundError:\n",
    "        print(\"❌ IQ-TREE executable not found. Check the path.\")\n",
    "    except subprocess.CalledProcessError as e:\n",
    "        print(f\"❌ IQ-TREE failed with error:\\n{e}\")\n",
    "\n",
    "if __name__ == \"__main__\":\n",
    "    if alignment_file.exists():\n",
    "        run_iqtree(alignment_file)\n",
    "        print(\"\\nTree construction completed. Check output in:\", output_dir)\n",
    "    else:\n",
    "        print(\"\\nAlignment file not found:\", alignment_file)\n"
   ]
  },
  {
   "cell_type": "code",
   "execution_count": 2,
   "id": "7896196d",
   "metadata": {},
   "outputs": [
    {
     "name": "stdout",
     "output_type": "stream",
     "text": [
      "Running IQ-TREE with command: D:\\iqtree\\iqtree-3.0.1-Windows\\bin\\iqtree3.exe -s C:\\Users\\terez\\OneDrive\\Plocha\\PP (Plantsies and Programming)\\Annonaceae\\aligned_plastomes_copy_aliview.fasta -m GTR+G -nt 4 -bb 1000 -alrt 1000 -pre phylo_output_aliview\\plastome_tree\n",
      "❌ IQ-TREE failed with error:\n",
      "Command '['D:\\\\iqtree\\\\iqtree-3.0.1-Windows\\\\bin\\\\iqtree3.exe', '-s', 'C:\\\\Users\\\\terez\\\\OneDrive\\\\Plocha\\\\PP (Plantsies and Programming)\\\\Annonaceae\\\\aligned_plastomes_copy_aliview.fasta', '-m', 'GTR+G', '-nt', '4', '-bb', '1000', '-alrt', '1000', '-pre', 'phylo_output_aliview\\\\plastome_tree']' returned non-zero exit status 3221225478.\n",
      "\n",
      "Tree construction completed. Check output in: phylo_output_aliview\n"
     ]
    }
   ],
   "source": [
    "import subprocess\n",
    "from pathlib import Path\n",
    "\n",
    "alignment_file_aliview = Path(r\"C:\\Users\\terez\\OneDrive\\Plocha\\PP (Plantsies and Programming)\\Annonaceae\\aligned_plastomes_copy_aliview.fasta\")\n",
    "iqtree_executable = Path(r\"D:\\iqtree\\iqtree-3.0.1-Windows\\bin\\iqtree3.exe\")\n",
    "output_dir_aliview = Path(\"phylo_output_aliview\")\n",
    "output_dir_aliview.mkdir(exist_ok=True)\n",
    "\n",
    "def run_iqtree_aliview(alignment_path_aliview: Path, threads: int = 4, model: str = \"GTR+G\"):\n",
    "    command_aliview = [\n",
    "        str(iqtree_executable),\n",
    "        \"-s\", str(alignment_path_aliview),\n",
    "        \"-m\", model,\n",
    "        \"-nt\", str(threads),\n",
    "        \"-bb\", \"1000\",\n",
    "        \"-alrt\", \"1000\",\n",
    "        \"-pre\", str(output_dir_aliview / \"plastome_tree\")\n",
    "    ]\n",
    "\n",
    "    print(f\"Running IQ-TREE with command: {' '.join(command_aliview)}\")\n",
    "    try:\n",
    "        subprocess.run(command_aliview, check=True)\n",
    "    except FileNotFoundError:\n",
    "        print(\"❌ IQ-TREE executable not found. Check the path.\")\n",
    "    except subprocess.CalledProcessError as e:\n",
    "        print(f\"❌ IQ-TREE failed with error:\\n{e}\")\n",
    "\n",
    "if __name__ == \"__main__\":\n",
    "    if alignment_file_aliview.exists():\n",
    "        run_iqtree_aliview(alignment_file_aliview)\n",
    "        print(\"\\nTree construction completed. Check output in:\", output_dir_aliview)\n",
    "    else:\n",
    "        print(\"\\nAlignment file not found:\", alignment_file_aliview)\n"
   ]
  }
 ],
 "metadata": {
  "kernelspec": {
   "display_name": "Python 3",
   "language": "python",
   "name": "python3"
  },
  "language_info": {
   "codemirror_mode": {
    "name": "ipython",
    "version": 3
   },
   "file_extension": ".py",
   "mimetype": "text/x-python",
   "name": "python",
   "nbconvert_exporter": "python",
   "pygments_lexer": "ipython3",
   "version": "3.12.10"
  }
 },
 "nbformat": 4,
 "nbformat_minor": 5
}
